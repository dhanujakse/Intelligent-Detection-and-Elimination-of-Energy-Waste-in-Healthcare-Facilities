{
 "cells": [
  {
   "cell_type": "code",
   "execution_count": 8,
   "id": "fb17553d",
   "metadata": {},
   "outputs": [
    {
     "name": "stdout",
     "output_type": "stream",
     "text": [
      "             Timestamp Patient ID  Temperature (°C)  Humidity (%)  \\\n",
      "0  2025-01-01 00:00:00      P0001         35.959197     53.116400   \n",
      "1  2025-01-01 00:05:00      P0002         36.591216     55.613547   \n",
      "2  2025-01-01 00:10:00      P0003         36.462011     58.424429   \n",
      "3  2025-01-01 00:15:00      P0004         36.410249     49.649295   \n",
      "4  2025-01-01 00:20:00      P0005         36.258128     42.872100   \n",
      "\n",
      "   Oxygen Level (%)  Heart Rate (bpm) Blood Pressure (mmHg)  \\\n",
      "0         98.863328                76             (111, 84)   \n",
      "1         97.408234                98             (119, 79)   \n",
      "2         97.106903                93             (132, 79)   \n",
      "3         96.425162                69             (120, 75)   \n",
      "4         97.484515                78             (122, 77)   \n",
      "\n",
      "   Energy Consumption (kWh) Energy Source  Renewable Energy Usage (%)  ...  \\\n",
      "0                 16.747023          Grid                   52.755948  ...   \n",
      "1                 18.816142          Wind                   69.839095  ...   \n",
      "2                  9.902197          Wind                   66.295345  ...   \n",
      "3                  9.445146          Grid                   77.151743  ...   \n",
      "4                 18.928228         Solar                   72.641814  ...   \n",
      "\n",
      "   Room Humidity (%)  HVAC Mode  HVAC Efficiency (%)  \\\n",
      "0          33.705483    Heating            92.930041   \n",
      "1          50.419144    Heating            91.987563   \n",
      "2          63.809061    Cooling            88.873706   \n",
      "3          52.816270    Heating            84.876137   \n",
      "4          34.510662    Heating            81.013523   \n",
      "\n",
      "   Outdoor Temperature (°C)  Outdoor Humidity (%)  Day of the Week  Season  \\\n",
      "0                 18.903246             58.295437                2    Fall   \n",
      "1                 33.844832             50.550620                2  Summer   \n",
      "2                 19.535191             50.933567                2    Fall   \n",
      "3                 24.507892             66.980780                2  Winter   \n",
      "4                 23.751179             43.990726                2  Spring   \n",
      "\n",
      "   Energy Saving Mode  System Health Check  AI Predicted Health Status  \n",
      "0                   0                    0                   Unhealthy  \n",
      "1                   0                    0                   Unhealthy  \n",
      "2                   1                    1                     Healthy  \n",
      "3                   0                    1                     Healthy  \n",
      "4                   1                    1                   Unhealthy  \n",
      "\n",
      "[5 rows x 25 columns]\n",
      "<class 'pandas.core.frame.DataFrame'>\n",
      "RangeIndex: 10000 entries, 0 to 9999\n",
      "Data columns (total 25 columns):\n",
      " #   Column                               Non-Null Count  Dtype  \n",
      "---  ------                               --------------  -----  \n",
      " 0   Timestamp                            10000 non-null  object \n",
      " 1   Patient ID                           10000 non-null  object \n",
      " 2   Temperature (°C)                     10000 non-null  float64\n",
      " 3   Humidity (%)                         10000 non-null  float64\n",
      " 4   Oxygen Level (%)                     10000 non-null  float64\n",
      " 5   Heart Rate (bpm)                     10000 non-null  int64  \n",
      " 6   Blood Pressure (mmHg)                10000 non-null  object \n",
      " 7   Energy Consumption (kWh)             10000 non-null  float64\n",
      " 8   Energy Source                        10000 non-null  object \n",
      " 9   Renewable Energy Usage (%)           10000 non-null  float64\n",
      " 10  HVAC Power Usage (kWh)               10000 non-null  float64\n",
      " 11  Lighting Power Usage (kWh)           10000 non-null  float64\n",
      " 12  Medical Equipment Power Usage (kWh)  10000 non-null  float64\n",
      " 13  Total Power Usage (kWh)              10000 non-null  float64\n",
      " 14  Room Temperature (°C)                10000 non-null  float64\n",
      " 15  Room Humidity (%)                    10000 non-null  float64\n",
      " 16  HVAC Mode                            10000 non-null  object \n",
      " 17  HVAC Efficiency (%)                  10000 non-null  float64\n",
      " 18  Outdoor Temperature (°C)             10000 non-null  float64\n",
      " 19  Outdoor Humidity (%)                 10000 non-null  float64\n",
      " 20  Day of the Week                      10000 non-null  int64  \n",
      " 21  Season                               10000 non-null  object \n",
      " 22  Energy Saving Mode                   10000 non-null  int64  \n",
      " 23  System Health Check                  10000 non-null  int64  \n",
      " 24  AI Predicted Health Status           10000 non-null  object \n",
      "dtypes: float64(14), int64(4), object(7)\n",
      "memory usage: 1.9+ MB\n",
      "None\n",
      "       Temperature (°C)  Humidity (%)  Oxygen Level (%)  Heart Rate (bpm)  \\\n",
      "count      10000.000000  10000.000000      10000.000000      10000.000000   \n",
      "mean          36.502086     55.093366         96.011950         79.413600   \n",
      "std            0.505308     10.037706          2.024329         11.543824   \n",
      "min           34.502865     16.430411         88.863731         60.000000   \n",
      "25%           36.160027     48.236511         94.637191         69.750000   \n",
      "50%           36.499497     55.027548         96.015319         79.000000   \n",
      "75%           36.839113     61.791380         97.384114         89.000000   \n",
      "max           38.158587     92.000546        103.033181         99.000000   \n",
      "\n",
      "       Energy Consumption (kWh)  Renewable Energy Usage (%)  \\\n",
      "count              10000.000000                10000.000000   \n",
      "mean                  15.021783                   75.063087   \n",
      "std                    2.999066                   14.526648   \n",
      "min                    3.679740                   50.012810   \n",
      "25%                   13.008793                   62.299134   \n",
      "50%                   15.009721                   74.976906   \n",
      "75%                   17.021608                   87.742552   \n",
      "max                   29.234176                   99.997287   \n",
      "\n",
      "       HVAC Power Usage (kWh)  Lighting Power Usage (kWh)  \\\n",
      "count            10000.000000                10000.000000   \n",
      "mean                 4.988765                    1.999587   \n",
      "std                  0.996217                    0.500709   \n",
      "min                  1.260998                    0.144631   \n",
      "25%                  4.326109                    1.667338   \n",
      "50%                  4.995787                    2.000089   \n",
      "75%                  5.650405                    2.331895   \n",
      "max                  8.686964                    4.220117   \n",
      "\n",
      "       Medical Equipment Power Usage (kWh)  Total Power Usage (kWh)  \\\n",
      "count                         10000.000000             10000.000000   \n",
      "mean                              3.011984                10.000335   \n",
      "std                               0.790769                 1.368253   \n",
      "min                              -0.170565                 5.185185   \n",
      "25%                               2.485275                 9.075309   \n",
      "50%                               3.017273                 9.996511   \n",
      "75%                               3.549319                10.931366   \n",
      "max                               6.197619                14.805275   \n",
      "\n",
      "       Room Temperature (°C)  Room Humidity (%)  HVAC Efficiency (%)  \\\n",
      "count           10000.000000       10000.000000         10000.000000   \n",
      "mean               21.997973          49.867221            87.463638   \n",
      "std                 2.017490          10.000224             4.314194   \n",
      "min                10.941437          15.636957            80.001309   \n",
      "25%                20.665378          43.074265            83.711865   \n",
      "50%                21.998827          49.803434            87.461619   \n",
      "75%                23.334843          56.517360            91.124894   \n",
      "max                29.082269          88.179295            94.999314   \n",
      "\n",
      "       Outdoor Temperature (°C)  Outdoor Humidity (%)  Day of the Week  \\\n",
      "count              10000.000000          10000.000000     10000.000000   \n",
      "mean                  25.063483             59.887101         3.016000   \n",
      "std                    5.099444              9.925944         2.000036   \n",
      "min                    6.119398             25.122396         0.000000   \n",
      "25%                   21.657858             53.179686         1.000000   \n",
      "50%                   25.060064             59.929929         3.000000   \n",
      "75%                   28.482223             66.679532         5.000000   \n",
      "max                   43.773135            101.457136         6.000000   \n",
      "\n",
      "       Energy Saving Mode  System Health Check  \n",
      "count         10000.00000         10000.000000  \n",
      "mean              0.49770             0.506400  \n",
      "std               0.50002             0.499984  \n",
      "min               0.00000             0.000000  \n",
      "25%               0.00000             0.000000  \n",
      "50%               0.00000             1.000000  \n",
      "75%               1.00000             1.000000  \n",
      "max               1.00000             1.000000  \n"
     ]
    }
   ],
   "source": [
    "#Importing Libraries and Loading Dataset\n",
    "\n",
    "import pandas as pd\n",
    "df = pd.read_csv(\"C:/Users/Dhanuja/Downloads/archive (7)/hospital_communication_energy_system.csv\")\n",
    "print(df.head())\n",
    "print(df.info())\n",
    "print(df.describe())"
   ]
  },
  {
   "cell_type": "code",
   "execution_count": 2,
   "id": "d9138569",
   "metadata": {},
   "outputs": [
    {
     "name": "stdout",
     "output_type": "stream",
     "text": [
      "Timestamp                              0\n",
      "Patient ID                             0\n",
      "Temperature (°C)                       0\n",
      "Humidity (%)                           0\n",
      "Oxygen Level (%)                       0\n",
      "Heart Rate (bpm)                       0\n",
      "Blood Pressure (mmHg)                  0\n",
      "Energy Consumption (kWh)               0\n",
      "Energy Source                          0\n",
      "Renewable Energy Usage (%)             0\n",
      "HVAC Power Usage (kWh)                 0\n",
      "Lighting Power Usage (kWh)             0\n",
      "Medical Equipment Power Usage (kWh)    0\n",
      "Total Power Usage (kWh)                0\n",
      "Room Temperature (°C)                  0\n",
      "Room Humidity (%)                      0\n",
      "HVAC Mode                              0\n",
      "HVAC Efficiency (%)                    0\n",
      "Outdoor Temperature (°C)               0\n",
      "Outdoor Humidity (%)                   0\n",
      "Day of the Week                        0\n",
      "Season                                 0\n",
      "Energy Saving Mode                     0\n",
      "System Health Check                    0\n",
      "AI Predicted Health Status             0\n",
      "dtype: int64\n"
     ]
    }
   ],
   "source": [
    "#Checking for Missing Values and Cleaning\n",
    "\n",
    "print(df.isnull().sum())\n",
    "df = df.dropna()"
   ]
  },
  {
   "cell_type": "code",
   "execution_count": 3,
   "id": "f9277b8e",
   "metadata": {},
   "outputs": [],
   "source": [
    "#Handling Duplicate Entries\n",
    "\n",
    "df = df.drop_duplicates()"
   ]
  },
  {
   "cell_type": "code",
   "execution_count": 7,
   "id": "950196e4",
   "metadata": {},
   "outputs": [
    {
     "name": "stdout",
     "output_type": "stream",
     "text": [
      "Healthcare-specific features created!\n",
      "Energy waste detected in 1532 out of 10000 records\n"
     ]
    }
   ],
   "source": [
    "#Creating Healthcare-Specific Features and Target Variable\n",
    "\n",
    "df['Critical_Hours'] = np.where(\n",
    "    (df['Hour'].between(6, 22)) & (df['Day_of_Week'] < 5), 1, 0\n",
    ")\n",
    "energy_threshold = df['Energy Consumption (kWh)'].quantile(0.7)\n",
    "df['Energy_Waste'] = np.where(\n",
    "    (df['Critical_Hours'] ==0) &\n",
    "    (df['Energy Consumption (kWh)'] > energy_threshold), 1, 0\n",
    ")\n",
    "df['HVAC_to_Total_Ratio'] = df['HVAC Power Usage (kWh)'] / df['Total Power Usage (kWh)']\n",
    "df['Medical_to_Total_Ratio'] = df['Medical Equipment Power Usage (kWh)'] / df['Total Power Usage (kWh)']\n",
    "df['Lighting_to_Total_Ratio'] = df['Lighting Power Usage (kWh)'] / df['Total Power Usage (kWh)']\n",
    "\n",
    "print(\"Healthcare-specific features created!\")\n",
    "print(f\"Energy waste detected in {df['Energy_Waste'].sum()} out of {len(df)} records\")"
   ]
  },
  {
   "cell_type": "code",
   "execution_count": 7,
   "id": "cdf46807",
   "metadata": {},
   "outputs": [
    {
     "data": {
      "text/plain": [
       "<Figure size 1200x600 with 0 Axes>"
      ]
     },
     "metadata": {},
     "output_type": "display_data"
    },
    {
     "data": {
      "image/png": "[encoded data removed]",
      "text/plain": [
       "<Figure size 640x480 with 1 Axes>"
      ]
     },
     "metadata": {},
     "output_type": "display_data"
    },
    {
     "data": {
      "image/png": "[encoded data removed]",
      "text/plain": [
       "<Figure size 1000x600 with 1 Axes>"
      ]
     },
     "metadata": {},
     "output_type": "display_data"
    }
   ],
   "source": [
    "# Week 2: Load data and perform Exploratory Data Analysis (EDA)\n",
    "import pandas as pd\n",
    "import numpy as np\n",
    "import matplotlib.pyplot as plt\n",
    "import seaborn as sns\n",
    "\n",
    "# Use your full file path to load the dataset\n",
    "file_path = 'C:/Users/Dhanuja/Downloads/archive (7)/hospital_communication_energy_system.csv'\n",
    "df = pd.read_csv(file_path)\n",
    "\n",
    "# Quick preprocessing (from our previous cells)\n",
    "df['Timestamp'] = pd.to_datetime(df['Timestamp'])\n",
    "df['Hour'] = df['Timestamp'].dt.hour\n",
    "df['Day_of_Week'] = df['Timestamp'].dt.dayofweek\n",
    "\n",
    "# Recreate Critical_Hours and Energy_Waste if not already in df\n",
    "df['Critical_Hours'] = np.where(\n",
    "    (df['Hour'].between(6, 22)) & (df['Day_of_Week'] < 5), 1, 0\n",
    ")\n",
    "threshold = df['Energy Consumption (kWh)'].quantile(0.7)\n",
    "df['Energy_Waste'] = np.where(\n",
    "    (df['Critical_Hours'] == 0) & (df['Energy Consumption (kWh)'] > threshold), 1, 0\n",
    ")\n",
    "\n",
    "# Now visualize energy waste distribution by hour\n",
    "plt.figure(figsize=(12, 6))\n",
    "waste_by_hour = df.groupby(['Hour', 'Energy_Waste']).size().unstack()\n",
    "waste_by_hour.plot(kind='bar', stacked=True)\n",
    "plt.title('Energy Waste Distribution by Hour of Day')\n",
    "plt.xlabel('Hour')\n",
    "plt.ylabel('Count')\n",
    "plt.legend(['No Waste', 'Energy Waste'])\n",
    "plt.show()\n",
    "\n",
    "# Energy consumption patterns during critical vs non-critical hours\n",
    "plt.figure(figsize=(10, 6))\n",
    "sns.boxplot(data=df, x='Critical_Hours', y='Energy Consumption (kWh)')\n",
    "plt.title('Energy Consumption: Critical vs Non-Critical Hours')\n",
    "plt.xlabel('Critical Hours (0=Non-Critical, 1=Critical)')\n",
    "plt.show()\n"
   ]
  },
  {
   "cell_type": "code",
   "execution_count": 13,
   "id": "124bba1a",
   "metadata": {},
   "outputs": [
    {
     "name": "stdout",
     "output_type": "stream",
     "text": [
      "Data loaded and all required columns created/verified.\n",
      "['Timestamp', 'Patient ID', 'Temperature (°C)', 'Humidity (%)', 'Oxygen Level (%)', 'Heart Rate (bpm)', 'Blood Pressure (mmHg)', 'Energy Consumption (kWh)', 'Energy Source', 'Renewable Energy Usage (%)', 'HVAC Power Usage (kWh)', 'Lighting Power Usage (kWh)', 'Medical Equipment Power Usage (kWh)', 'Total Power Usage (kWh)', 'Room Temperature (°C)', 'Room Humidity (%)', 'HVAC Mode', 'HVAC Efficiency (%)', 'Outdoor Temperature (°C)', 'Outdoor Humidity (%)', 'Day of the Week', 'Season', 'Energy Saving Mode', 'System Health Check', 'AI Predicted Health Status', 'Hour', 'Day_of_Week', 'Month', 'HVAC_to_Total_Ratio', 'Medical_to_Total_Ratio', 'Lighting_to_Total_Ratio', 'Critical_Hours', 'Energy_Waste']\n"
     ]
    }
   ],
   "source": [
    "# Week 2: Load data and create any missing features\n",
    "import pandas as pd\n",
    "import numpy as np\n",
    "\n",
    "# Use your full file path\n",
    "file_path = 'C:/Users/Dhanuja/Downloads/archive (7)/hospital_communication_energy_system.csv'\n",
    "df = pd.read_csv(file_path)\n",
    "\n",
    "# Convert Timestamp (if not already done)\n",
    "df['Timestamp'] = pd.to_datetime(df['Timestamp'])\n",
    "\n",
    "# Create time features if missing\n",
    "if 'Hour' not in df.columns:\n",
    "    df['Hour'] = df['Timestamp'].dt.hour\n",
    "if 'Day_of_Week' not in df.columns:\n",
    "    df['Day_of_Week'] = df['Timestamp'].dt.dayofweek\n",
    "if 'Month' not in df.columns:\n",
    "    df['Month'] = df['Timestamp'].dt.month\n",
    "\n",
    "# Create ratio features if missing\n",
    "if 'HVAC_to_Total_Ratio' not in df.columns:\n",
    "    df['HVAC_to_Total_Ratio'] = df['HVAC Power Usage (kWh)'] / df['Total Power Usage (kWh)']\n",
    "if 'Medical_to_Total_Ratio' not in df.columns:\n",
    "    df['Medical_to_Total_Ratio'] = df['Medical Equipment Power Usage (kWh)'] / df['Total Power Usage (kWh)']\n",
    "if 'Lighting_to_Total_Ratio' not in df.columns:\n",
    "    df['Lighting_to_Total_Ratio'] = df['Lighting Power Usage (kWh)'] / df['Total Power Usage (kWh)']\n",
    "\n",
    "# Create Critical_Hours and Energy_Waste if missing\n",
    "if 'Critical_Hours' not in df.columns:\n",
    "    df['Critical_Hours'] = np.where(\n",
    "        (df['Hour'].between(6, 22)) & (df['Day_of_Week'] < 5), 1, 0\n",
    "    )\n",
    "if 'Energy_Waste' not in df.columns:\n",
    "    threshold = df['Energy Consumption (kWh)'].quantile(0.7)\n",
    "    df['Energy_Waste'] = np.where(\n",
    "        (df['Critical_Hours'] == 0) & (df['Energy Consumption (kWh)'] > threshold), 1, 0\n",
    "    )\n",
    "\n",
    "print(\"Data loaded and all required columns created/verified.\")\n",
    "print(df.columns.tolist())  # Verify columns\n"
   ]
  },
  {
   "cell_type": "code",
   "execution_count": 14,
   "id": "1a3b0b0b",
   "metadata": {},
   "outputs": [
    {
     "name": "stdout",
     "output_type": "stream",
     "text": [
      "Training set size: 8000\n",
      "Test set size: 2000\n",
      "Energy waste in training: 1226\n",
      "Energy waste in test: 306\n"
     ]
    }
   ],
   "source": [
    "Prepare data for ML models\n",
    "from sklearn.model_selection import train_test_split\n",
    "from sklearn.metrics import classification_report, accuracy_score\n",
    "\n",
    "# Select features (based on your engineered columns)\n",
    "feature_columns = [\n",
    "    'Hour', 'Day_of_Week', 'Month',\n",
    "    'Energy Consumption (kWh)', 'HVAC Power Usage (kWh)',\n",
    "    'Lighting Power Usage (kWh)', 'Medical Equipment Power Usage (kWh)',\n",
    "    'Room Temperature (°C)', 'Room Humidity (%)',\n",
    "    'Outdoor Temperature (°C)', 'Outdoor Humidity (%)',\n",
    "    'HVAC_to_Total_Ratio', 'Medical_to_Total_Ratio', 'Lighting_to_Total_Ratio',\n",
    "    'HVAC Efficiency (%)', 'Renewable Energy Usage (%)'\n",
    "]\n",
    "\n",
    "X = df[feature_columns]\n",
    "y = df['Energy_Waste']  # target variable\n",
    "\n",
    "# Split data (80/20 split)\n",
    "X_train, X_test, y_train, y_test = train_test_split(X, y, test_size=0.2, random_state=42, stratify=y)\n",
    "\n",
    "print(f\"Training set size: {X_train.shape[0]}\")\n",
    "print(f\"Test set size: {X_test.shape[0]}\")\n",
    "print(f\"Energy waste in training: {y_train.sum()}\")\n",
    "print(f\"Energy waste in test: {y_test.sum()}\")\n"
   ]
  },
  {
   "cell_type": "code",
   "execution_count": 15,
   "id": "119105ce",
   "metadata": {},
   "outputs": [
    {
     "name": "stdout",
     "output_type": "stream",
     "text": [
      "\n",
      "=== Random Forest ===\n",
      "Accuracy: 0.9995\n",
      "              precision    recall  f1-score   support\n",
      "\n",
      "           0       1.00      1.00      1.00      1694\n",
      "           1       1.00      1.00      1.00       306\n",
      "\n",
      "    accuracy                           1.00      2000\n",
      "   macro avg       1.00      1.00      1.00      2000\n",
      "weighted avg       1.00      1.00      1.00      2000\n",
      "\n",
      "\n",
      "=== Logistic Regression ===\n"
     ]
    },
    {
     "name": "stderr",
     "output_type": "stream",
     "text": [
      "C:\\Users\\Dhanuja\\anaconda3\\Lib\\site-packages\\sklearn\\linear_model\\_logistic.py:460: ConvergenceWarning: lbfgs failed to converge (status=1):\n",
      "STOP: TOTAL NO. of ITERATIONS REACHED LIMIT.\n",
      "\n",
      "Increase the number of iterations (max_iter) or scale the data as shown in:\n",
      "    https://scikit-learn.org/stable/modules/preprocessing.html\n",
      "Please also refer to the documentation for alternative solver options:\n",
      "    https://scikit-learn.org/stable/modules/linear_model.html#logistic-regression\n",
      "  n_iter_i = _check_optimize_result(\n"
     ]
    },
    {
     "name": "stdout",
     "output_type": "stream",
     "text": [
      "Accuracy: 0.9015\n",
      "              precision    recall  f1-score   support\n",
      "\n",
      "           0       0.93      0.96      0.94      1694\n",
      "           1       0.72      0.58      0.64       306\n",
      "\n",
      "    accuracy                           0.90      2000\n",
      "   macro avg       0.82      0.77      0.79      2000\n",
      "weighted avg       0.90      0.90      0.90      2000\n",
      "\n",
      "\n",
      "=== SVM ===\n",
      "Accuracy: 0.8525\n",
      "              precision    recall  f1-score   support\n",
      "\n",
      "           0       0.85      1.00      0.92      1694\n",
      "           1       0.82      0.05      0.09       306\n",
      "\n",
      "    accuracy                           0.85      2000\n",
      "   macro avg       0.84      0.52      0.50      2000\n",
      "weighted avg       0.85      0.85      0.79      2000\n",
      "\n",
      "\n",
      "Best Model: Random Forest with accuracy 0.9995\n"
     ]
    }
   ],
   "source": [
    "# Week 2: Train and evaluate ML models\n",
    "from sklearn.ensemble import RandomForestClassifier\n",
    "from sklearn.linear_model import LogisticRegression\n",
    "from sklearn.svm import SVC\n",
    "\n",
    "# Initialize models\n",
    "models = {\n",
    "    'Random Forest': RandomForestClassifier(n_estimators=100, random_state=42),\n",
    "    'Logistic Regression': LogisticRegression(random_state=42, max_iter=1000),\n",
    "    'SVM': SVC(random_state=42)\n",
    "}\n",
    "\n",
    "# Train and evaluate\n",
    "results = {}\n",
    "for name, model in models.items():\n",
    "    print(f\"\\n=== {name} ===\")\n",
    "    model.fit(X_train, y_train)\n",
    "    y_pred = model.predict(X_test)\n",
    "    accuracy = accuracy_score(y_test, y_pred)\n",
    "    results[name] = accuracy\n",
    "    print(f\"Accuracy: {accuracy:.4f}\")\n",
    "    print(classification_report(y_test, y_pred))\n",
    "\n",
    "# Select best model\n",
    "best_model = max(results, key=results.get)\n",
    "print(f\"\\nBest Model: {best_model} with accuracy {results[best_model]:.4f}\")\n"
   ]
  },
  {
   "cell_type": "code",
   "execution_count": 16,
   "id": "c40af6ed",
   "metadata": {},
   "outputs": [
    {
     "name": "stdout",
     "output_type": "stream",
     "text": [
      "Total Energy Consumption: 150217.83 kWh\n",
      "Total Energy Waste: 28374.81 kWh\n",
      "Waste Percentage: 18.89%\n",
      "Potential Cost Savings: $2837.48\n"
     ]
    }
   ],
   "source": [
    "# Week 2: Calculate potential energy savings\n",
    "total_energy_waste = df[df['Energy_Waste'] == 1]['Energy Consumption (kWh)'].sum()\n",
    "total_energy = df['Energy Consumption (kWh)'].sum()\n",
    "waste_percentage = (total_energy_waste / total_energy) * 100 if total_energy > 0 else 0\n",
    "\n",
    "print(f\"Total Energy Consumption: {total_energy:.2f} kWh\")\n",
    "print(f\"Total Energy Waste: {total_energy_waste:.2f} kWh\")\n",
    "print(f\"Waste Percentage: {waste_percentage:.2f}%\")\n",
    "\n",
    "# Estimate cost savings (assume $0.10 per kWh)\n",
    "cost_per_kwh = 0.10\n",
    "cost_savings = total_energy_waste * cost_per_kwh\n",
    "print(f\"Potential Cost Savings: ${cost_savings:.2f}\")\n"
   ]
  },
  {
   "cell_type": "code",
   "execution_count": null,
   "id": "7a50cafe",
   "metadata": {},
   "outputs": [],
   "source": []
  }
 ],
 "metadata": {
  "kernelspec": {
   "display_name": "Python 3 (ipykernel)",
   "language": "python",
   "name": "python3"
  },
  "language_info": {
   "codemirror_mode": {
    "name": "ipython",
    "version": 3
   },
   "file_extension": ".py",
   "mimetype": "text/x-python",
   "name": "python",
   "nbconvert_exporter": "python",
   "pygments_lexer": "ipython3",
   "version": "3.11.5"
  }
 },
 "nbformat": 4,
 "nbformat_minor": 5
}
