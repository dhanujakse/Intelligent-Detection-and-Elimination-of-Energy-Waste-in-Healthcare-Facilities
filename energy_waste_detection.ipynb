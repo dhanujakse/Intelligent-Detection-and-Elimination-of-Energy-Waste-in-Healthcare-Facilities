https://drive.google.com/file/d/1Ytdvvfph9uJI52lxrhslicTjjcfYfN-D/view?usp=sharing
