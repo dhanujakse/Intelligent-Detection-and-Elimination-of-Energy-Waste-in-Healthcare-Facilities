## Dataset Download Instructions

The dataset file `hospital_communication_energy_system.csv` is hosted on Google Drive due to size limitations on GitHub.

Please download it from the following link:  
[Google Drive Dataset Link](https://drive.google.com/file/d/1Ytdvvfph9uJI52lxrhslicTjjcfYfN-D/view?usp=sharing)

After downloading, place the CSV file in the project directory or in a `data/` folder before running the notebook/script.

